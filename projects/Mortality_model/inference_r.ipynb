{
 "cells": [
  {
   "cell_type": "code",
   "execution_count": null,
   "metadata": {
    "vscode": {
     "languageId": "r"
    }
   },
   "outputs": [],
   "source": [
    "packages <- c(\"duckdb\", \"lubridate\", \"tidyverse\", \"dplyr\", \"readr\", \"arrow\", \"fst\", \"lightgbm\", \"caret\", \"Metrics\", \"ROCR\", \"pROC\")\n",
    "\n",
    "install_if_missing <- function(package) {\n",
    "  if (!require(package, character.only = TRUE)) {\n",
    "    install.packages(package, dependencies = TRUE)\n",
    "    library(package, character.only = TRUE)\n",
    "  }\n",
    "}\n",
    "\n",
    "sapply(packages, install_if_missing)\n",
    "\n",
    "con <- duckdb::dbConnect(duckdb::duckdb(), dbdir = \":memory:\")\n"
   ]
  },
  {
   "cell_type": "code",
   "execution_count": null,
   "metadata": {
    "vscode": {
     "languageId": "r"
    }
   },
   "outputs": [],
   "source": [
    "tables_location <- \"C:/Users/vchaudha/OneDrive - rush.edu/CLIF-1.0-main\" \n",
    "site <-'RUSH'\n",
    "file_type <- '.csv'\n",
    "\n",
    "# Check if the output directory exists; if not, create it\n",
    "if (!dir.exists(\"output\")) {\n",
    "  dir.create(\"output\")\n",
    "}\n",
    "\n",
    "read_data <- function(file_path) {\n",
    "  if (grepl(\"\\\\.csv$\", file_path)) {\n",
    "    return(read.csv(file_path))\n",
    "  } else if (grepl(\"\\\\.parquet$\", file_path)) {\n",
    "    return(arrow::read_parquet(file_path))\n",
    "  } else if (grepl(\"\\\\.fst$\", file_path)) {\n",
    "    return(fst::read.fst(file_path))\n",
    "  } else {\n",
    "    stop(\"Unsupported file format\")\n",
    "  }\n",
    "}\n",
    "\n",
    "# Read data using the function and assign to variables\n",
    "location <- read_data(paste0(tables_location, \"/rclif/clif_adt\", file_type))\n",
    "encounter <- read_data(paste0(tables_location, \"/rclif/clif_encounter_demographics_dispo\", file_type))\n",
    "limited <- read_data(paste0(tables_location, \"/rclif/clif_limited_identifiers\", file_type))\n",
    "demog <- read_data(paste0(tables_location, \"/rclif/clif_patient_demographics\", file_type))\n"
   ]
  },
  {
   "cell_type": "code",
   "execution_count": null,
   "metadata": {
    "vscode": {
     "languageId": "r"
    }
   },
   "outputs": [],
   "source": [
    "# First join operation\n",
    "join <- location %>%\n",
    "  select(encounter_id, location_category, in_dttm, out_dttm) %>%\n",
    "  left_join(limited %>% select(encounter_id, admission_dttm), by = \"encounter_id\")\n",
    "\n",
    "# Second join operation to get 'icu_data'\n",
    "icu_data <- join %>%\n",
    "  left_join(encounter %>% select(encounter_id, age_at_admission, disposition), by = \"encounter_id\") %>%\n",
    "  mutate(\n",
    "    admission_dttm = ymd_hms(admission_dttm), # Convert to POSIXct, adjust the function as per your date format\n",
    "    in_dttm = ymd_hms(in_dttm) # Convert to POSIXct, adjust the function as per your date format\n",
    "  )\n",
    "\n",
    "# Filter rows where location is ICU and in_dttm is within 48 hours of admission_dttm\n",
    "\n",
    "icu_48hr_check <- icu_data %>%\n",
    "  filter(location_category == \"ICU\",\n",
    "         in_dttm >= admission_dttm,\n",
    "         in_dttm <= admission_dttm + lubridate::hours(48),\n",
    "         lubridate::year(in_dttm) >= 2020,\n",
    "         lubridate::year(in_dttm) <= 2022,\n",
    "         age_at_admission >= 18,\n",
    "         !is.na(age_at_admission)) %>%\n",
    "  distinct(encounter_id) %>%\n",
    "  pull(encounter_id)\n",
    "  \n",
    "# Filter icu_data to only include rows with encounter_ids in icu_48hr_check and within 72 hours of admission\n",
    "icu_data <- icu_data %>%\n",
    "  filter(encounter_id %in% icu_48hr_check,\n",
    "         in_dttm <= admission_dttm + hours(72)) %>%\n",
    "  arrange(in_dttm) %>%\n",
    "  mutate(RANK = rank(in_dttm, ties.method = \"first\")) %>%\n",
    "  arrange(encounter_id, in_dttm) %>%\n",
    "  group_by(encounter_id) %>%\n",
    "  mutate(RANK = rank(in_dttm, ties.method = \"first\"))\n",
    "\n",
    "  # Compute minimum rank for ICU locations\n",
    "min_icu <- icu_data %>%\n",
    "  filter(location_category == \"ICU\") %>%\n",
    "  group_by(encounter_id) %>%\n",
    "  summarize(min_icu = min(RANK))\n",
    "\n",
    "# Merge the minimum ICU rank back into the original dataset\n",
    "icu_data <- icu_data %>%\n",
    "  left_join(min_icu, by = \"encounter_id\")\n",
    "\n",
    "# Filter based on rank being at least the minimum ICU rank\n",
    "icu_data <- icu_data %>%\n",
    "  filter(RANK >= min_icu) %>%\n",
    "  arrange(in_dttm)\n",
    "\n",
    "# Change 'OR' to 'ICU' in location_category\n",
    "icu_data <- icu_data %>%\n",
    "  mutate(location_category = ifelse(location_category == \"OR\", \"ICU\", location_category))\n",
    "\n",
    "# Create a new group_id based on changes in location_category\n",
    "icu_data <- icu_data %>%\n",
    "  group_by(encounter_id) %>%\n",
    "  mutate(group_id = cumsum(location_category != lag(location_category, default = first(location_category)))) %>%\n",
    "  ungroup()\n",
    "\n",
    "icu_data <- icu_data %>%\n",
    "  group_by(encounter_id, location_category, group_id) %>%\n",
    "  summarize(\n",
    "    min_in_dttm = min(in_dttm),\n",
    "    max_out_dttm = max(out_dttm),\n",
    "    admission_dttm = first(admission_dttm),\n",
    "    age = first(age_at_admission),\n",
    "    dispo = first(disposition),\n",
    "    .groups = 'drop'\n",
    "  )\n",
    "\n",
    "# Compute minimum group_id for each encounter_id where location_category is 'ICU'\n",
    "min_icu <- icu_data %>%\n",
    "  filter(location_category == \"ICU\") %>%\n",
    "  group_by(encounter_id) %>%\n",
    "  summarize(min_icu = min(group_id), .groups = 'drop')\n",
    "\n",
    "# Merge the minimum ICU group_id back into the original dataset\n",
    "icu_data <- left_join(icu_data, min_icu, by = \"encounter_id\")\n",
    "\n",
    "# Filter based on group_id matching min_icu and duration condition\n",
    "icu_data <- icu_data %>%\n",
    "  filter(min_icu == group_id,\n",
    "         interval(min_in_dttm, max_out_dttm) >= dhours(24)) %>%\n",
    "  arrange(min_in_dttm)\n",
    "\n",
    "  # Add 24 hours to the 'min_in_dttm' column\n",
    "icu_data <- icu_data %>%\n",
    "  mutate(after_24hr = min_in_dttm + hours(24))\n",
    "\n",
    "# Select specific columns\n",
    "icu_data <- icu_data %>%\n",
    "  select(encounter_id, min_in_dttm, after_24hr, age, dispo)\n",
    "\n",
    "# Merge with demographic data and select specific columns\n",
    "icu_data <- icu_data %>%\n",
    "  left_join(demog, by = \"encounter_id\") %>%\n",
    "  select(encounter_id, min_in_dttm, after_24hr, age, dispo, sex, ethnicity, race)\n",
    "\n",
    "# Remove rows with missing 'sex' and create new variables\n",
    "icu_data <- icu_data %>%\n",
    "  filter(!is.na(sex)) %>%\n",
    "  mutate(\n",
    "    isfemale = as.integer(tolower(sex) == \"female\"),\n",
    "    isdeathdispo = as.integer(grepl(\"dead|expired\", dispo, ignore.case = TRUE))\n",
    "  )\n",
    "\n",
    "# Define race and ethnicity mappings using case_when\n",
    "icu_data <- icu_data %>%\n",
    "  mutate(\n",
    "    race = case_when(\n",
    "      race == \"White\" ~ \"White\",\n",
    "      race == \"Black or African American\" ~ \"Black\",\n",
    "      race == \"Asian\" ~ \"Asian\",\n",
    "      race %in% c(\"Other\", \"Unknown\", \"Did Not Encounter\", \"Refusal\", \n",
    "                  \"American Indian or Alaska Native\", \n",
    "                  \"Native Hawaiian or Other Pacific Islander\") ~ \"Others\",\n",
    "      TRUE ~ \"Others\"  # Default case for NA and any other unexpected values\n",
    "    ),\n",
    "    ethnicity = case_when(\n",
    "      ethnicity == \"Not Hispanic or Latino\" ~ \"Not Hispanic or Latino\",\n",
    "      ethnicity == \"Hispanic or Latino\" ~ \"Hispanic or Latino\",\n",
    "      ethnicity %in% c(\"Did Not Encounter\", \"Refusal\", \"*Unspecified\") ~ \"Others\",\n",
    "      TRUE ~ \"Others\"  # Default case for NA and any other unexpected values\n",
    "    )\n",
    "  )\n",
    "\n",
    "rm( encounter, limited, demog)\n",
    "gc()  # invokes garbage collection"
   ]
  },
  {
   "cell_type": "markdown",
   "metadata": {},
   "source": [
    "### vitals"
   ]
  },
  {
   "cell_type": "code",
   "execution_count": null,
   "metadata": {
    "vscode": {
     "languageId": "r"
    }
   },
   "outputs": [],
   "source": [
    "vitals <- read_data(paste0(tables_location, \"/rclif/clif_vitals\", file_type))\n",
    "duckdb_register(con, \"vitals\", vitals)\n",
    "duckdb_register(con, \"icu_data\", icu_data)"
   ]
  },
  {
   "cell_type": "code",
   "execution_count": null,
   "metadata": {
    "vscode": {
     "languageId": "r"
    }
   },
   "outputs": [],
   "source": [
    "vitals <- dbGetQuery(con, \"SELECT \n",
    "        encounter_id,\n",
    "        CAST(recorded_dttm AS datetime) AS recorded_dttm,\n",
    "        CAST(vital_value AS float) AS vital_value,\n",
    "        vital_category \n",
    "    FROM \n",
    "        vitals\n",
    "    WHERE \n",
    "        vital_category IN ('weight_kg', 'pulse', 'sbp', 'dbp', 'temp_c','height_inches') \n",
    "        AND encounter_id IN (SELECT DISTINCT encounter_id FROM icu_data);\")\n",
    "duckdb_unregister(con, \"vitals\")       "
   ]
  },
  {
   "cell_type": "code",
   "execution_count": null,
   "metadata": {
    "vscode": {
     "languageId": "r"
    }
   },
   "outputs": [],
   "source": [
    "pivoted_data <- vitals %>%\n",
    "  group_by(encounter_id, recorded_dttm, vital_category) %>%\n",
    "  summarise(first_vital_value = first(vital_value), .groups = 'drop') %>%\n",
    "  pivot_wider(\n",
    "    names_from = vital_category,\n",
    "    values_from = first_vital_value\n",
    "  ) %>%  as.data.frame\n",
    "\n",
    "rm(vitals)\n",
    "gc()  # invokes garbage collection"
   ]
  },
  {
   "cell_type": "code",
   "execution_count": null,
   "metadata": {
    "vscode": {
     "languageId": "r"
    }
   },
   "outputs": [],
   "source": [
    "pivoted_data <- pivoted_data %>%\n",
    "  mutate(\n",
    "    height_meters = height_inches * 0.0254,\n",
    "    bmi = weight_kg / (height_meters ^ 2)\n",
    "  ) %>%  as.data.frame\n",
    "\n",
    "# Merge vitals data with icu_data\n",
    "icu_data_agg <- icu_data %>%\n",
    "  left_join(pivoted_data, by = \"encounter_id\") %>%  as.data.frame\n",
    "\n",
    "# Filter records based on time conditions\n",
    "icu_data_agg <- icu_data_agg %>%\n",
    "  filter(recorded_dttm >= min_in_dttm & recorded_dttm <= after_24hr) %>%\n",
    "  arrange(recorded_dttm) %>%\n",
    "  select(-recorded_dttm)  %>%  as.data.frame\n",
    "\n",
    "duckdb_register(con, \"icu_data_agg\", icu_data_agg)\n",
    "# Aggregate data\n",
    "icu_data_agg <- tbl(con, \"icu_data_agg\") %>% \n",
    "  group_by(encounter_id) %>%\n",
    "  summarize(\n",
    "    min_bmi = min(bmi, na.rm = TRUE),\n",
    "    max_bmi = max(bmi, na.rm = TRUE),\n",
    "    avg_bmi = mean(bmi, na.rm = TRUE),\n",
    "    min_weight_kg = min(weight_kg, na.rm = TRUE), \n",
    "    max_weight_kg = max(weight_kg, na.rm = TRUE),\n",
    "    avg_weight_kg = mean(weight_kg, na.rm = TRUE),\n",
    "    min_pulse = min(pulse, na.rm = TRUE),\n",
    "    max_pulse = max(pulse, na.rm = TRUE),\n",
    "    avg_pulse = mean(pulse, na.rm = TRUE),\n",
    "    min_sbp = min(sbp, na.rm = TRUE),\n",
    "    max_sbp = max(sbp, na.rm = TRUE),\n",
    "    avg_sbp = mean(sbp, na.rm = TRUE),\n",
    "    min_dbp = min(dbp, na.rm = TRUE),\n",
    "    max_dbp = max(dbp, na.rm = TRUE),\n",
    "    avg_dbp = mean(dbp, na.rm = TRUE),\n",
    "    min_temp_c = min(temp_c, na.rm = TRUE),\n",
    "    max_temp_c = max(temp_c, na.rm = TRUE),\n",
    "    avg_temp_c = mean(temp_c, na.rm = TRUE),\n",
    "    .groups = \"drop\"  # Avoid auto-grouping in subsequent operations\n",
    "  ) %>% collect() %>%   as.data.frame\n",
    "\n",
    "# Merge aggregated data back into the original icu_data\n",
    "icu_data <- left_join(icu_data, icu_data_agg, by = \"encounter_id\")\n",
    "\n",
    "duckdb_unregister(con, \"icu_data_agg\")\n",
    "rm(icu_data_agg,pivoted_data)\n",
    "gc()  # invokes garbage collection"
   ]
  },
  {
   "cell_type": "markdown",
   "metadata": {},
   "source": [
    "### labs"
   ]
  },
  {
   "cell_type": "code",
   "execution_count": null,
   "metadata": {
    "vscode": {
     "languageId": "r"
    }
   },
   "outputs": [],
   "source": [
    "labs <- read_data(paste0(tables_location, \"/rclif/clif_labs\", file_type))\n",
    "duckdb_register(con, \"labs\", labs)"
   ]
  },
  {
   "cell_type": "code",
   "execution_count": null,
   "metadata": {
    "vscode": {
     "languageId": "r"
    }
   },
   "outputs": [],
   "source": [
    "labs <- dbGetQuery(con, \"\n",
    " SELECT \n",
    "        encounter_id,\n",
    "        CAST(lab_order_dttm AS datetime) AS lab_order_dttm,\n",
    "        TRY_CAST(lab_value AS float) AS lab_value,\n",
    "        lab_category \n",
    "    FROM \n",
    "        labs\n",
    "    WHERE \n",
    "        ((lab_category='monocyte'               and lab_type_name='standard') OR\n",
    "        (lab_category='lymphocyte'              and lab_type_name='standard') OR\n",
    "        (lab_category='basophil'                and lab_type_name='standard') OR\n",
    "        (lab_category='neutrophil'              and lab_type_name='standard') OR\n",
    "        (lab_category='albumin'                 and lab_type_name='standard') OR\n",
    "        (lab_category='ast'                     and lab_type_name='standard') OR\n",
    "        (lab_category='total_protein'           and lab_type_name='standard') OR\n",
    "        (lab_category='alkaline_phosphatase'    and lab_type_name='standard') OR\n",
    "        (lab_category='bilirubin_total'         and lab_type_name='standard') OR\n",
    "        (lab_category='bilirubin_conjugated'    and lab_type_name='standard') OR\n",
    "        (lab_category='calcium'                 and lab_type_name='standard') OR\n",
    "        (lab_category='chloride'                and lab_type_name='standard') OR\n",
    "        (lab_category='potassium'               and lab_type_name='standard') OR\n",
    "        (lab_category='sodium'                  and lab_type_name='standard') OR\n",
    "        (lab_category='glucose_serum'           and lab_type_name='standard') OR\n",
    "        (lab_category='hemoglobin'              and lab_type_name='standard') OR\n",
    "        (lab_category='platelet count'          and lab_type_name='standard') OR\n",
    "        (lab_category='wbc'                     and lab_type_name='standard'))  \n",
    "        AND encounter_id IN (SELECT DISTINCT encounter_id FROM icu_data);\n",
    "\")\n",
    "\n",
    "pivoted_data <- labs  %>%\n",
    "  group_by(encounter_id, lab_order_dttm, lab_category) %>%\n",
    "  summarise(first_lab_value = first(lab_value), .groups = 'drop') %>%\n",
    "  pivot_wider(\n",
    "    names_from = lab_category,\n",
    "    values_from = first_lab_value\n",
    "  )  %>% \n",
    "  as.data.frame\n",
    "\n",
    "icu_data_agg <- left_join(icu_data, pivoted_data, by = \"encounter_id\")\n",
    "\n",
    "icu_data_agg <- filter(icu_data_agg, lab_order_dttm >= min_in_dttm & lab_order_dttm <= after_24hr) %>% \n",
    "  as.data.frame"
   ]
  },
  {
   "cell_type": "code",
   "execution_count": null,
   "metadata": {
    "vscode": {
     "languageId": "r"
    }
   },
   "outputs": [],
   "source": [
    "duckdb_register(con, \"icu_data_agg\", icu_data_agg)\n",
    "\n",
    "Lab_variables <- c('albumin', 'alkaline_phosphatase',\n",
    "       'ast', 'basophil', 'bilirubin_conjugated', 'bilirubin_total', 'calcium',\n",
    "       'chloride', 'hemoglobin', 'lymphocyte', 'monocyte', 'glucose_serum', \n",
    "       'neutrophil', 'potassium', 'sodium', 'total_protein','platelet count', \n",
    "       'wbc')\n",
    "\n",
    "icu_data_agg <- tbl(con, \"icu_data_agg\") %>% \n",
    "  group_by(encounter_id) %>%\n",
    "  summarise(across(all_of(Lab_variables), list(\n",
    "    min = ~min(., na.rm = TRUE), \n",
    "    max = ~max(., na.rm = TRUE), \n",
    "    mean = ~mean(., na.rm = TRUE)\n",
    "  ), .names = \"{.col}_{.fn}\")) %>%\n",
    "  ungroup() %>% collect() %>%   as.data.frame # Ensure no residual grouping\n",
    "\n",
    "duckdb_unregister(con, \"icu_data_agg\")\n",
    "\n",
    "# Merge aggregated data back into the original icu_data\n",
    "icu_data <- left_join(icu_data, icu_data_agg, by = \"encounter_id\") %>%   as.data.frame\n",
    "\n",
    "rm(icu_data_agg,pivoted_data,labs)\n",
    "gc() "
   ]
  },
  {
   "cell_type": "code",
   "execution_count": null,
   "metadata": {
    "vscode": {
     "languageId": "r"
    }
   },
   "outputs": [],
   "source": [
    "write.csv(icu_data, \"icu_data.csv\", row.names = FALSE)\n",
    "# to skip next time\n",
    "#icu_data <- read_data(paste0(tables_location, \"/rclif/icu_data\", file_type))"
   ]
  },
  {
   "cell_type": "markdown",
   "metadata": {},
   "source": [
    "### model"
   ]
  },
  {
   "cell_type": "code",
   "execution_count": null,
   "metadata": {
    "vscode": {
     "languageId": "r"
    }
   },
   "outputs": [],
   "source": [
    "dim(icu_data)\n",
    "\n",
    "model_col <- c('isfemale', 'age', 'min_bmi', 'max_bmi', 'avg_bmi',\n",
    "               'min_weight_kg', 'max_weight_kg', 'avg_weight_kg', 'min_pulse',\n",
    "               'max_pulse', 'avg_pulse', 'min_sbp', 'max_sbp', 'avg_sbp', 'min_dbp',\n",
    "               'max_dbp', 'avg_dbp', 'min_temp_c', 'max_temp_c', 'avg_temp_c',\n",
    "               'albumin_min', 'albumin_max', 'albumin_mean',\n",
    "               'alkaline_phosphatase_min', 'alkaline_phosphatase_max',\n",
    "               'alkaline_phosphatase_mean', 'ast_min', 'ast_max', 'ast_mean',\n",
    "               'basophil_min', 'basophil_max', 'basophil_mean',\n",
    "               'bilirubin_conjugated_min', 'bilirubin_conjugated_max',\n",
    "               'bilirubin_conjugated_mean', 'bilirubin_total_min',\n",
    "               'bilirubin_total_max', 'bilirubin_total_mean', 'calcium_min',\n",
    "               'calcium_max', 'calcium_mean', 'chloride_min', 'chloride_max',\n",
    "               'chloride_mean', 'glucose_serum_min', 'glucose_serum_max',\n",
    "               'glucose_serum_mean', 'hemoglobin_min', 'hemoglobin_max',\n",
    "               'hemoglobin_mean', 'lymphocyte_min', 'lymphocyte_max',\n",
    "               'lymphocyte_mean', 'monocyte_min', 'monocyte_max', 'monocyte_mean',\n",
    "               'neutrophil_min', 'neutrophil_max', 'neutrophil_mean',\n",
    "               'platelet count_min', 'platelet count_max', 'platelet count_mean',\n",
    "               'potassium_min', 'potassium_max', 'potassium_mean', 'sodium_min',\n",
    "               'sodium_max', 'sodium_mean', 'total_protein_min', 'total_protein_max',\n",
    "               'total_protein_mean', 'wbc_min', 'wbc_max', 'wbc_mean')\n",
    "\n",
    "\n",
    "model_file_path <- sprintf(\"%s/projects/Mortality_model/models/lgbm_model_20240429-083130.txt\", tables_location)\n",
    "\n",
    "# Load the model\n",
    "model <- lgb.load(model_file_path)"
   ]
  },
  {
   "cell_type": "markdown",
   "metadata": {},
   "source": [
    "### probablity table"
   ]
  },
  {
   "cell_type": "code",
   "execution_count": null,
   "metadata": {
    "vscode": {
     "languageId": "r"
    }
   },
   "outputs": [],
   "source": [
    "X_test <- as.matrix(icu_data[model_col])\n",
    "y_test <- factor(icu_data$isdeathdispo)  \n",
    "y_pred_proba <- predict(model, X_test)\n",
    "y_pred_class <- as.numeric(y_pred_proba > 0.5)\n",
    "icu_data$pred_proba <- y_pred_proba\n"
   ]
  },
  {
   "cell_type": "code",
   "execution_count": null,
   "metadata": {
    "vscode": {
     "languageId": "r"
    }
   },
   "outputs": [],
   "source": [
    "site_label <- y_test\n",
    "site_proba <- y_pred_proba\n",
    "site_name <- rep(site, length(site_label))\n",
    "prob_df_lgbm <- data.frame(site_label, site_proba, site_name)\n",
    "write.csv(prob_df_lgbm, file = paste0(\"output/Model_probabilities_\", site, \".csv\"), row.names = FALSE)\n",
    "head(prob_df_lgbm)"
   ]
  },
  {
   "cell_type": "markdown",
   "metadata": {},
   "source": [
    "### basic metrics"
   ]
  },
  {
   "cell_type": "code",
   "execution_count": null,
   "metadata": {
    "vscode": {
     "languageId": "r"
    }
   },
   "outputs": [],
   "source": [
    "# Predict probabilities and binary predictions\n",
    "predicted_probabilities <- predict(model, X_test)\n",
    "predicted_classes <- as.integer(predicted_probabilities >= 0.5)\n",
    "\n",
    "# Generate a confusion matrix\n",
    "conf_matrix <- confusionMatrix(as.factor(predicted_classes), as.factor(y_test))\n",
    "\n",
    "# Extract metrics\n",
    "accuracy <- conf_matrix$overall['Accuracy']\n",
    "roc_auc <- pROC::auc(pROC::roc(y_test, predicted_probabilities))\n",
    "\n",
    "# Calculate metrics for each threshold\n",
    "predicted_positive <- predict(model, X_test) >= 0.5\n",
    "actual_positive <- icu_data$isdeathdispo == 1\n",
    "actual_negative <- icu_data$isdeathdispo == 0\n",
    "\n",
    "tp <- sum(predicted_positive & actual_positive, na.rm = TRUE)\n",
    "fp <- sum(predicted_positive & actual_negative, na.rm = TRUE)\n",
    "fn <- sum(!predicted_positive & actual_positive, na.rm = TRUE)\n",
    "tn <- sum(!predicted_positive & actual_negative, na.rm = TRUE)\n",
    "\n",
    "recall <- ifelse((tp + fn) > 0, tp / (tp + fn), 0)\n",
    "\n",
    "precision <- ifelse((tp + fp) > 0, tp / (tp + fp), 0)\n",
    "\n",
    "\n",
    "Metric = c('Accuracy', 'Recall', 'Precision', 'ROC AUC')\n",
    "Value = c(accuracy, recall, precision, roc_auc)\n",
    "SiteName = rep(site,4)  # Change 7 to the number of metrics\n",
    "\n",
    "# Create a data frame to store the results\n",
    "results_metric <- data.frame(\n",
    "  Metric ,\n",
    "  Value ,\n",
    "  SiteName \n",
    ")\n",
    "\n",
    "# Export to CSV\n",
    "write.csv(results_metric, sprintf(\"output/result_metrics_%s.csv\", site), row.names = FALSE)\n",
    "\n",
    "# Print the results\n",
    "results_metric"
   ]
  },
  {
   "cell_type": "markdown",
   "metadata": {},
   "source": [
    "#### model fairness test accross 'race', 'ethnicity', 'sex'"
   ]
  },
  {
   "cell_type": "code",
   "execution_count": null,
   "metadata": {
    "vscode": {
     "languageId": "r"
    }
   },
   "outputs": [],
   "source": [
    "\n",
    "calculate_metrics <- function(data, true_col, pred_prob_col, subgroup_cols) {\n",
    "  results <- list()\n",
    "  total_count <- nrow(data)\n",
    "  \n",
    "  for (subgroup_col in subgroup_cols) {\n",
    "    # Filter out rows with NA in the current subgroup column\n",
    "    filtered_data <- data %>% filter(!is.na(.data[[subgroup_col]])) %>% drop_na(.data[[true_col]], .data[[pred_prob_col]])\n",
    "    \n",
    "    # Loop over unique groups in the subgroup column\n",
    "    for (group in unique(filtered_data[[subgroup_col]])) {\n",
    "      subgroup_data <- filtered_data %>% filter(.data[[subgroup_col]] == group)\n",
    "      group_count <- nrow(subgroup_data)\n",
    "      proportion <- group_count / total_count\n",
    "      \n",
    "      # Check if there are at least two distinct classes and no NA in predictor\n",
    "      if (length(unique(subgroup_data[[true_col]])) > 1 && sum(!is.na(subgroup_data[[pred_prob_col]])) == nrow(subgroup_data)) {\n",
    "        # Calculate AUC\n",
    "        pred <- prediction(subgroup_data[[pred_prob_col]], subgroup_data[[true_col]])\n",
    "        auc <- performance(pred, \"auc\")@y.values[[1]]\n",
    "        # Calculate confusion matrix\n",
    "        cm <- table(factor(subgroup_data[[true_col]], levels = c(0, 1)),\n",
    "                    factor(as.numeric(subgroup_data[[pred_prob_col]] > 0.5), levels = c(0, 1)))\n",
    "        tn <- cm[1, 1]\n",
    "        fp <- cm[1, 2]\n",
    "        fn <- cm[2, 1]\n",
    "        tp <- cm[2, 2]\n",
    "        ppv <- ifelse((tp + fp) != 0, tp / (tp + fp), 0)\n",
    "        \n",
    "        result <- list(Subgroup = subgroup_col, Group = group, AUC = auc, PPV = ppv,\n",
    "                       GroupCount = group_count, TotalCount = total_count, Proportion = proportion)\n",
    "      } else {\n",
    "        result <- list(Subgroup = subgroup_col, Group = group, AUC = 'Not defined', PPV = 'Not applicable',\n",
    "                       GroupCount = group_count, TotalCount = total_count, Proportion = proportion)\n",
    "      }\n",
    "      \n",
    "      results <- c(results, list(result))\n",
    "    }\n",
    "  }\n",
    "  \n",
    "  # Convert the list of results to a data frame\n",
    "  results_df <- do.call(rbind, lapply(results, as.data.frame))\n",
    "  return(results_df)\n",
    "}\n",
    "\n",
    "# Example usage\n",
    "result_df <- calculate_metrics(icu_data, 'isdeathdispo', 'pred_proba', c('race', 'ethnicity', 'sex'))\n",
    "\n",
    "write.csv(result_df, file = paste0(\"output/fairness_test_\", site, \".csv\"), row.names = FALSE)\n",
    "\n",
    "result_df"
   ]
  }
 ],
 "metadata": {
  "kernelspec": {
   "display_name": "R",
   "language": "R",
   "name": "ir"
  },
  "language_info": {
   "codemirror_mode": "r",
   "file_extension": ".r",
   "mimetype": "text/x-r-source",
   "name": "R",
   "pygments_lexer": "r",
   "version": "4.1.3"
  }
 },
 "nbformat": 4,
 "nbformat_minor": 2
}
