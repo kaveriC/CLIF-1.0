{
 "cells": [
  {
   "cell_type": "code",
   "execution_count": null,
   "metadata": {},
   "outputs": [],
   "source": [
    "from scipy.interpolate import make_interp_spline\n",
    "import matplotlib.pyplot as plt\n",
    "import seaborn as sns\n",
    "import pandas as pd\n",
    "import numpy as np\n",
    "import glob\n",
    "site=['RUSH','UCMC','UMN','JHU','U of Michigan','NU','Emory','OHSU']"
   ]
  },
  {
   "cell_type": "markdown",
   "metadata": {},
   "source": [
    "## Discrimination"
   ]
  },
  {
   "cell_type": "code",
   "execution_count": null,
   "metadata": {},
   "outputs": [],
   "source": [
    "roc_files = glob.glob(\"roc_curve_data_*.csv\")\n",
    "roc_dataframes = [pd.read_csv(file) for file in roc_files]\n",
    "merged_roc_dataframe = pd.concat(roc_dataframes, ignore_index=True)"
   ]
  },
  {
   "cell_type": "code",
   "execution_count": null,
   "metadata": {},
   "outputs": [],
   "source": [
    "\n",
    "# Plot ROC AUC for each site\n",
    "plt.figure(figsize=(10, 6))\n",
    "\n",
    "sites = merged_roc_dataframe['site'].unique()\n",
    "for site in sites:\n",
    "    site_data = merged_roc_dataframe[merged_roc_dataframe['site'] == site]\n",
    "    plt.plot(site_data['fpr'], site_data['tpr'], label=f'{site}')\n",
    "\n",
    "plt.plot([0, 1], [0, 1], 'k--')  # Diagonal line\n",
    "plt.xlim([0.0, 1.0])\n",
    "plt.ylim([0.0, 1.0])\n",
    "plt.xlabel('False Positive Rate')\n",
    "plt.ylabel('True Positive Rate')\n",
    "plt.title('ROC Curve')\n",
    "plt.legend(loc='lower right')\n",
    "plt.grid(True)\n",
    "plt.show()"
   ]
  },
  {
   "cell_type": "markdown",
   "metadata": {},
   "source": [
    "### Calibration "
   ]
  },
  {
   "cell_type": "code",
   "execution_count": null,
   "metadata": {},
   "outputs": [],
   "source": [
    "cal_files = glob.glob(\"calibration_data_*.csv\")\n",
    "cal_dataframes = [pd.read_csv(file) for file in cal_files]\n",
    "merged_cal_dataframe = pd.concat(cal_dataframes, ignore_index=True)"
   ]
  },
  {
   "cell_type": "code",
   "execution_count": null,
   "metadata": {},
   "outputs": [],
   "source": [
    "merged_cal_dataframe.to_csv('Rush_Uofc_cal_plot_df.csv',index=False)"
   ]
  },
  {
   "cell_type": "code",
   "execution_count": null,
   "metadata": {},
   "outputs": [],
   "source": [
    "import pandas as pd\n",
    "import numpy as np\n",
    "import matplotlib.pyplot as plt\n",
    "from scipy.interpolate import make_interp_spline\n",
    "from sklearn.linear_model import LinearRegression\n",
    "\n",
    "# Assuming merged_cal_dataframe is already defined\n",
    "sites = merged_cal_dataframe['site'].unique()\n",
    "\n",
    "# Create an empty list to store the results\n",
    "results = []\n",
    "\n",
    "# Create a figure for the plot\n",
    "plt.figure(figsize=(10, 6))\n",
    "\n",
    "# Loop over each site and perform the linear regression\n",
    "for site in sites:\n",
    "    site_data = merged_cal_dataframe[merged_cal_dataframe['site'] == site]\n",
    "    \n",
    "    # Fit the linear regression model\n",
    "    model = LinearRegression()\n",
    "    X = site_data[['predicted_prob']]\n",
    "    y = site_data['actual_prob']\n",
    "    model.fit(X, y)\n",
    "    \n",
    "    # Get the slope (coefficient) and intercept\n",
    "    slope = model.coef_[0]\n",
    "    intercept = model.intercept_\n",
    "    \n",
    "    # Append the results\n",
    "    results.append({'Site': site, 'Slope': slope, 'Intercept': intercept})\n",
    "    \n",
    "    # Sort the data by predicted_prob to ensure smooth interpolation\n",
    "    site_data = site_data.sort_values(by='predicted_prob')\n",
    "    \n",
    "    # Smoothing the line with spline interpolation\n",
    "    x_new = np.linspace(site_data['predicted_prob'].min(), site_data['predicted_prob'].max(), 300)\n",
    "    spl = make_interp_spline(site_data['predicted_prob'], site_data['actual_prob'], k=2)\n",
    "    y_smooth = spl(x_new)\n",
    "    \n",
    "    # Plot the smoothed line\n",
    "    plt.plot(x_new, y_smooth, label=f'{site} (slope: {slope:.2f}, intercept: {intercept:.2f})')\n",
    "    plt.fill_between(site_data['predicted_prob'], site_data['lower_ci'], site_data['upper_ci'], alpha=0.2)\n",
    "\n",
    "# Plot the perfect calibration line\n",
    "plt.plot([0, 1], [0, 1], 'k--', label='Perfect Calibration Line')\n",
    "\n",
    "# Customize the plot\n",
    "plt.xlim([0.0, 1.0])\n",
    "plt.ylim([0.0, 1.0])\n",
    "plt.xlabel('Predicted Probability')\n",
    "plt.ylabel('Actual Probability')\n",
    "plt.title('Calibration Plot for Each Site with CI and Spline Smoothed Lines')\n",
    "plt.legend(loc='lower right')\n",
    "plt.grid(True)\n",
    "plt.show()\n",
    "\n",
    "# Create a DataFrame from the results\n",
    "results_df = pd.DataFrame(results)\n",
    "\n"
   ]
  },
  {
   "cell_type": "code",
   "execution_count": null,
   "metadata": {},
   "outputs": [],
   "source": [
    "results_df"
   ]
  },
  {
   "cell_type": "code",
   "execution_count": null,
   "metadata": {},
   "outputs": [],
   "source": [
    "import pandas as pd\n",
    "import numpy as np\n",
    "import matplotlib.pyplot as plt\n",
    "from sklearn.linear_model import LinearRegression\n",
    "\n",
    "# Assuming merged_cal_dataframe is already defined\n",
    "sites = merged_cal_dataframe['site'].unique()\n",
    "\n",
    "# Create an empty list to store the results\n",
    "results = []\n",
    "\n",
    "# Create a figure for the plot\n",
    "plt.figure(figsize=(10, 6))\n",
    "\n",
    "# Loop over each site and perform the linear regression\n",
    "for site in sites:\n",
    "    site_data = merged_cal_dataframe[merged_cal_dataframe['site'] == site]\n",
    "    \n",
    "    # Fit the linear regression model\n",
    "    model = LinearRegression()\n",
    "    X = site_data[['predicted_prob']]\n",
    "    y = site_data['actual_prob']\n",
    "    model.fit(X, y)\n",
    "    \n",
    "    # Get the slope (coefficient) and intercept\n",
    "    slope = model.coef_[0]\n",
    "    intercept = model.intercept_\n",
    "    \n",
    "    # Append the results\n",
    "    results.append({'Site': site, 'Slope': slope, 'Intercept': intercept})\n",
    "    \n",
    "    # Plot the actual data points\n",
    "    plt.scatter(site_data['predicted_prob'], site_data['actual_prob'], label=f'{site} data', alpha=0.5)\n",
    "    \n",
    "    # Plot the linear regression line\n",
    "    x_vals = np.array(plt.gca().get_xlim())\n",
    "    y_vals = intercept + slope * x_vals\n",
    "    plt.plot(x_vals, y_vals, label=f'{site} line (slope: {slope:.2f}, intercept: {intercept:.2f})')\n",
    "\n",
    "# Plot the perfect calibration line\n",
    "plt.plot([0, 1], [0, 1], 'k--', label='Perfect Calibration Line')\n",
    "\n",
    "# Customize the plot\n",
    "plt.xlim([0.0, 1.0])\n",
    "plt.ylim([0.0, 1.0])\n",
    "plt.xlabel('Predicted Probability')\n",
    "plt.ylabel('Actual Probability')\n",
    "plt.title('Calibration Plot for Each Site with Linear Regression Lines')\n",
    "plt.legend(loc='lower right')\n",
    "plt.grid(True)\n",
    "plt.show()\n",
    "\n",
    "# Create a DataFrame from the results\n",
    "results_df = pd.DataFrame(results)"
   ]
  },
  {
   "cell_type": "markdown",
   "metadata": {},
   "source": [
    "# Clinical utility "
   ]
  },
  {
   "cell_type": "code",
   "execution_count": null,
   "metadata": {},
   "outputs": [],
   "source": [
    "top_files = glob.glob(\"Top_N_percentile_PPV_*.csv\")\n",
    "top_dataframes = [pd.read_csv(file) for file in top_files]\n",
    "merged_top_dataframe = pd.concat(top_dataframes, ignore_index=True)"
   ]
  },
  {
   "cell_type": "code",
   "execution_count": null,
   "metadata": {},
   "outputs": [],
   "source": [
    "top_files"
   ]
  },
  {
   "cell_type": "code",
   "execution_count": null,
   "metadata": {},
   "outputs": [],
   "source": [
    "df = merged_top_dataframe\n",
    "\n",
    "# Calculate n and net_benefit\n",
    "df['n'] = df['TN'] + df['FP'] + df['FN'] + df['TP']\n",
    "df['net_benefit'] = (df['TP'] - df['FP'] * (df['Thr Value'] / (1 - df['Thr Value']))) / df['n']\n",
    "\n",
    "# Find intersection points\n",
    "threshold_value = 0.208  # Example threshold value\n",
    "intersection_points = df.loc[(df.groupby('site_name')['Thr Value'].apply(lambda x: (x - threshold_value).abs().idxmin()))]\n",
    "\n",
    "# Plotting\n",
    "plt.figure(figsize=(10, 6))\n",
    "sns.lineplot(data=df, x='Thr Value', y='net_benefit', hue='site_name', style='site_name', markers=True, dashes=False)\n",
    "plt.axvline(x=threshold_value, color='red', linestyle='--', linewidth=0.5)\n",
    "sns.scatterplot(data=intersection_points, x='Thr Value', y='net_benefit', hue='site_name', s=100, legend=False)\n",
    "\n",
    "plt.xlabel('Threshold Probability')\n",
    "plt.ylabel('Net Benefit')\n",
    "plt.title('Decision Analysis Curve with Intersection Points')\n",
    "plt.legend(title='Site')\n",
    "plt.grid(True)\n",
    "plt.show()"
   ]
  },
  {
   "cell_type": "markdown",
   "metadata": {},
   "source": [
    "### metric"
   ]
  },
  {
   "cell_type": "code",
   "execution_count": null,
   "metadata": {},
   "outputs": [],
   "source": [
    "met_files = glob.glob(\"result_metrics_2_*.csv\")\n",
    "met_dataframes = [pd.read_csv(file) for file in met_files]\n",
    "merged_met_dataframe = pd.concat(met_dataframes, ignore_index=True)"
   ]
  },
  {
   "cell_type": "markdown",
   "metadata": {},
   "source": [
    "# plot on one"
   ]
  },
  {
   "cell_type": "code",
   "execution_count": null,
   "metadata": {},
   "outputs": [],
   "source": [
    "site_mapping = {\n",
    "    'RUSH': 'RUSH University',\n",
    "    'UCMC': 'University of Chicago',\n",
    "    'UMN': 'University of Minnesota',\n",
    "    'JHU': 'Johns Hopkins Health System',\n",
    "    'U of Michigan': 'University of Michigan',\n",
    "    'NU': 'Northwestern University',\n",
    "    'Emory': 'Emory University',\n",
    "    'OHSU': 'Oregon Health & Science University'\n",
    "}"
   ]
  },
  {
   "cell_type": "code",
   "execution_count": null,
   "metadata": {},
   "outputs": [],
   "source": [
    "merged_met_dataframe['SiteName'] = merged_met_dataframe['SiteName'].map(site_mapping)"
   ]
  },
  {
   "cell_type": "code",
   "execution_count": null,
   "metadata": {},
   "outputs": [],
   "source": [
    "merged_top_dataframe['site_name'] = merged_top_dataframe['site_name'].map(site_mapping)"
   ]
  },
  {
   "cell_type": "code",
   "execution_count": null,
   "metadata": {},
   "outputs": [],
   "source": [
    "merged_roc_dataframe['site'] = merged_roc_dataframe['site'].map(site_mapping)"
   ]
  },
  {
   "cell_type": "code",
   "execution_count": null,
   "metadata": {},
   "outputs": [],
   "source": [
    "merged_cal_dataframe['site'] = merged_cal_dataframe['site'].map(site_mapping)\n",
    "merged_cal_dataframe"
   ]
  },
  {
   "cell_type": "code",
   "execution_count": null,
   "metadata": {},
   "outputs": [],
   "source": [
    "\n",
    "# Calculate 'n' and 'net_benefit'\n",
    "df = merged_top_dataframe\n",
    "df['n'] = df['TN'] + df['FP'] + df['FN'] + df['TP']\n",
    "df['net_benefit'] = (df['TP'] - df['FP'] * (df['Thr Value'] / (1 - df['Thr Value']))) / df['n']\n",
    "\n",
    "# Find intersection points\n",
    "threshold_value = 0.208  # Example threshold value\n",
    "intersection_points = df.loc[(df.groupby('site_name')['Thr Value'].apply(lambda x: (x - threshold_value).abs().idxmin()))]\n",
    "\n",
    "# Extract AUC and Brier Score values from merged_met_dataframe\n",
    "auc_values = merged_met_dataframe[merged_met_dataframe['Metric'] == 'ROC AUC'].set_index('SiteName')['Value'].to_dict()\n",
    "auc_ci_lower = merged_met_dataframe[merged_met_dataframe['Metric'] == 'ROC AUC'].set_index('SiteName')['CI Lower'].to_dict()\n",
    "auc_ci_upper = merged_met_dataframe[merged_met_dataframe['Metric'] == 'ROC AUC'].set_index('SiteName')['CI Upper'].to_dict()\n",
    "brier_scores = merged_met_dataframe[merged_met_dataframe['Metric'] == 'Brier Score Loss'].set_index('SiteName')['Value'].to_dict()\n"
   ]
  },
  {
   "cell_type": "code",
   "execution_count": null,
   "metadata": {},
   "outputs": [],
   "source": [
    "# Sorting AUC and Brier Scores\n",
    "sorted_auc = sorted(auc_values.items(), key=lambda item: item[1], reverse=True)\n",
    "sorted_brier = sorted(brier_scores.items(), key=lambda item: item[1])\n",
    "\n",
    "# Sorted lists of site names based on AUC and Brier Scores\n",
    "sorted_sites_auc = [site for site, value in sorted_auc]\n",
    "sorted_sites_brier = [site for site, value in sorted_brier]\n",
    "\n",
    "# Define colors for each site\n",
    "site_colors = {\n",
    "    'RUSH University': '#006747',\n",
    "    'University of Chicago': '#800000',\n",
    "    'University of Minnesota': '#F9D849',\n",
    "    'Johns Hopkins Health System': '#000000',\n",
    "    'University of Michigan': '#0000F5',\n",
    "    'Northwestern University': '#4E2A84',\n",
    "    'Emory University': '#001A57',\n",
    "    'Oregon Health & Science University': '#5D98CA'\n",
    "}\n",
    "\n",
    "\n",
    "# Plotting\n",
    "fig, axs = plt.subplots(1, 3, figsize=(19, 7))\n",
    "\n",
    "# ROC Plot\n",
    "axs[0].set_title('ROC Curve',  fontsize=20)\n",
    "for site in sorted_sites_auc:\n",
    "    site_data = merged_roc_dataframe[merged_roc_dataframe['site'] == site]\n",
    "    auc = auc_values[site]\n",
    "    ci_lower = auc_ci_lower[site]\n",
    "    ci_upper = auc_ci_upper[site]\n",
    "    label = f'{site} (AUC: {auc:.2f} [{ci_lower:.2f}, {ci_upper:.2f}])'\n",
    "    axs[0].plot(site_data['fpr'], site_data['tpr'], label=label, color=site_colors.get(site, 'black'))\n",
    "axs[0].plot([0, 1], [0, 1], 'k--')\n",
    "axs[0].set_xlim([0.0, 1.0])\n",
    "axs[0].set_ylim([0.0, 1.0])\n",
    "axs[0].set_xlabel('False Positive Rate', fontsize=15)\n",
    "axs[0].set_ylabel('True Positive Rate', fontsize=15)\n",
    "axs[0].legend(loc='lower right')\n",
    "axs[0].grid(True)\n",
    "\n",
    "# Calibration Plot\n",
    "axs[1].set_title('Calibration Plot',fontsize=20)\n",
    "for site in sorted_sites_brier:\n",
    "    site_data = merged_cal_dataframe[merged_cal_dataframe['site'] == site]\n",
    "    site_data = site_data.sort_values(by='predicted_prob')\n",
    "    x_new = np.linspace(site_data['predicted_prob'].min(), site_data['predicted_prob'].max(), 300)\n",
    "    spl = make_interp_spline(site_data['predicted_prob'], site_data['actual_prob'], k=2)\n",
    "    y_smooth = spl(x_new)\n",
    "    brier_score = brier_scores[site]\n",
    "    label = f'{site} (Brier Score: {brier_score:.3f})'\n",
    "    axs[1].plot(x_new, y_smooth, label=label, color=site_colors.get(site, 'black'))\n",
    "axs[1].plot([0, 1], [0, 1], 'k--')\n",
    "axs[1].set_xlim([0.0, 1.0])\n",
    "axs[1].set_ylim([0.0, 1.0])\n",
    "axs[1].set_xlabel('Predicted Probability', fontsize=15)\n",
    "axs[1].set_ylabel('Actual Probability', fontsize=15)\n",
    "axs[1].legend(loc='upper left')\n",
    "axs[1].grid(True)\n",
    "\n",
    "# Clinical Utility Plot\n",
    "axs[2].set_title('Decision Analysis Curve',fontsize=20)\n",
    "sns.lineplot(ax=axs[2], data=merged_top_dataframe, x='Thr Value', y='net_benefit', hue='site_name', palette=site_colors, style='site_name', markers=False, dashes=False)\n",
    "axs[2].axvline(x=threshold_value, color='red', linestyle='--', linewidth=0.5)\n",
    "sns.scatterplot(ax=axs[2], data=intersection_points, x='Thr Value', y='net_benefit', hue='site_name', palette=site_colors, s=100, legend=False)\n",
    "axs[2].set_xlabel('Threshold Probability', fontsize=15)\n",
    "axs[2].set_ylabel('Net Benefit', fontsize=15)\n",
    "axs[2].legend(title='Site')\n",
    "axs[2].grid(True)\n",
    "\n",
    "plt.tight_layout()\n",
    "fig.savefig('Final_TriPOD_plot_600dpi.png', dpi=600)\n",
    "plt.show()\n"
   ]
  },
  {
   "cell_type": "code",
   "execution_count": null,
   "metadata": {},
   "outputs": [],
   "source": [
    "# Plotting\n",
    "fig, axs = plt.subplots(3, 1, figsize=(15, 21))  # Adjusted for 3x1 layout\n",
    "\n",
    "# ROC Plot\n",
    "axs[0].set_title('ROC Curve', fontsize=20)\n",
    "for site in sorted_sites_auc:\n",
    "    site_data = merged_roc_dataframe[merged_roc_dataframe['site'] == site]\n",
    "    auc = auc_values[site]\n",
    "    ci_lower = auc_ci_lower[site]\n",
    "    ci_upper = auc_ci_upper[site]\n",
    "    label = f'{site} (AUC: {auc:.2f} [{ci_lower:.2f}, {ci_upper:.2f}])'\n",
    "    axs[0].plot(site_data['fpr'], site_data['tpr'], label=label, color=site_colors.get(site, 'black'))\n",
    "axs[0].plot([0, 1], [0, 1], 'k--')\n",
    "axs[0].set_xlim([0.0, 1.0])\n",
    "axs[0].set_ylim([0.0, 1.0])\n",
    "axs[0].set_xlabel('False Positive Rate', fontsize=15)\n",
    "axs[0].set_ylabel('True Positive Rate', fontsize=15)\n",
    "axs[0].legend(loc='lower right',fontsize=14)\n",
    "axs[0].grid(True)\n",
    "\n",
    "# Calibration Plot\n",
    "axs[1].set_title('Calibration Plot', fontsize=20)\n",
    "for site in sorted_sites_brier:\n",
    "    site_data = merged_cal_dataframe[merged_cal_dataframe['site'] == site]\n",
    "    site_data = site_data.sort_values(by='predicted_prob')\n",
    "    x_new = np.linspace(site_data['predicted_prob'].min(), site_data['predicted_prob'].max(), 300)\n",
    "    spl = make_interp_spline(site_data['predicted_prob'], site_data['actual_prob'], k=2)\n",
    "    y_smooth = spl(x_new)\n",
    "    brier_score = brier_scores[site]\n",
    "    label = f'{site} (Brier Score: {brier_score:.3f})'\n",
    "    axs[1].plot(x_new, y_smooth, label=label, color=site_colors.get(site, 'black'))\n",
    "axs[1].plot([0, 1], [0, 1], 'k--')\n",
    "axs[1].set_xlim([0.0, 1.0])\n",
    "axs[1].set_ylim([0.0, 1.0])\n",
    "axs[1].set_xlabel('Predicted Probability', fontsize=15)\n",
    "axs[1].set_ylabel('Actual Probability', fontsize=15)\n",
    "axs[1].legend(loc='upper left',fontsize=14)\n",
    "axs[1].grid(True)\n",
    "\n",
    "# Clinical Utility Plot\n",
    "axs[2].set_title('Decision Analysis Curve', fontsize=20)\n",
    "sns.lineplot(ax=axs[2], data=merged_top_dataframe, x='Thr Value', y='net_benefit', hue='site_name', palette=site_colors, style='site_name', markers=False, dashes=False)\n",
    "axs[2].axvline(x=threshold_value, color='red', linestyle='--', linewidth=0.5)\n",
    "sns.scatterplot(ax=axs[2], data=intersection_points, x='Thr Value', y='net_benefit', hue='site_name', palette=site_colors, s=100, legend=False)\n",
    "axs[2].set_xlabel('Threshold Probability', fontsize=15)\n",
    "axs[2].set_ylabel('Net Benefit', fontsize=15)\n",
    "axs[2].legend(title='Site',fontsize=14)\n",
    "axs[2].grid(True)\n",
    "\n",
    "plt.tight_layout()\n",
    "fig.savefig('Final_TriPOD_plot_600dpi.png', dpi=1000)\n",
    "plt.show()\n"
   ]
  }
 ],
 "metadata": {
  "kernelspec": {
   "display_name": "base",
   "language": "python",
   "name": "python3"
  },
  "language_info": {
   "codemirror_mode": {
    "name": "ipython",
    "version": 3
   },
   "file_extension": ".py",
   "mimetype": "text/x-python",
   "name": "python",
   "nbconvert_exporter": "python",
   "pygments_lexer": "ipython3",
   "version": "3.11.5"
  }
 },
 "nbformat": 4,
 "nbformat_minor": 2
}
